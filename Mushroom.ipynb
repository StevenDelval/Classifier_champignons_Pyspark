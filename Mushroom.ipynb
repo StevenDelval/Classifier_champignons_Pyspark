{
 "cells": [
  {
   "cell_type": "markdown",
   "metadata": {
    "application/vnd.databricks.v1+cell": {
     "cellMetadata": {
      "byteLimit": 2048000,
      "rowLimit": 10000
     },
     "inputWidgets": {},
     "nuid": "96816ed7-b08a-4ca3-abb9-f99880c3535d",
     "showTitle": false,
     "title": ""
    }
   },
   "source": [
    "\n",
    "## Overview\n",
    "\n",
    "This notebook will show you how to create and query a table or DataFrame that you uploaded to DBFS. [DBFS](https://docs.databricks.com/user-guide/dbfs-databricks-file-system.html) is a Databricks File System that allows you to store data for querying inside of Databricks. This notebook assumes that you have a file already inside of DBFS that you would like to read from.\n",
    "\n",
    "This notebook is written in **Python** so the default cell type is Python. However, you can use different languages by using the `%LANGUAGE` syntax. Python, Scala, SQL, and R are all supported."
   ]
  },
  {
   "cell_type": "code",
   "execution_count": null,
   "metadata": {
    "application/vnd.databricks.v1+cell": {
     "cellMetadata": {
      "byteLimit": 2048000,
      "rowLimit": 10000
     },
     "inputWidgets": {},
     "nuid": "d10fc6e6-222f-4bd2-85bb-f2a112c27bf3",
     "showTitle": false,
     "title": ""
    }
   },
   "outputs": [
    {
     "data": {
      "text/plain": [
       "'\\nAbout this file\\n\\nAttribute Information: (classes: edible=e, poisonous=p)\\n\\n    cap-shape: bell=b,conical=c,convex=x,flat=f, knobbed=k,sunken=s\\n\\n    cap-surface: fibrous=f,grooves=g,scaly=y,smooth=s\\n\\n    cap-color: brown=n,buff=b,cinnamon=c,gray=g,green=r,pink=p,purple=u,red=e,white=w,yellow=y\\n\\n    bruises: bruises=t,no=f\\n\\n    odor: almond=a,anise=l,creosote=c,fishy=y,foul=f,musty=m,none=n,pungent=p,spicy=s\\n\\n    gill-attachment: attached=a,descending=d,free=f,notched=n\\n\\n    gill-spacing: close=c,crowded=w,distant=d\\n\\n    gill-size: broad=b,narrow=n\\n\\n    gill-color: black=k,brown=n,buff=b,chocolate=h,gray=g, green=r,orange=o,pink=p,purple=u,red=e,white=w,yellow=y\\n\\n    stalk-shape: enlarging=e,tapering=t\\n\\n    stalk-root: bulbous=b,club=c,cup=u,equal=e,rhizomorphs=z,rooted=r,missing=?\\n\\n    stalk-surface-above-ring: fibrous=f,scaly=y,silky=k,smooth=s\\n\\n    stalk-surface-below-ring: fibrous=f,scaly=y,silky=k,smooth=s\\n\\n    stalk-color-above-ring: brown=n,buff=b,cinnamon=c,gray=g,orange=o,pink=p,red=e,white=w,yellow=y\\n\\n    stalk-color-below-ring: brown=n,buff=b,cinnamon=c,gray=g,orange=o,pink=p,red=e,white=w,yellow=y\\n\\n    veil-type: partial=p,universal=u\\n\\n    veil-color: brown=n,orange=o,white=w,yellow=y\\n\\n    ring-number: none=n,one=o,two=t\\n\\n    ring-type: cobwebby=c,evanescent=e,flaring=f,large=l,none=n,pendant=p,sheathing=s,zone=z\\n\\n    spore-print-color: black=k,brown=n,buff=b,chocolate=h,green=r,orange=o,purple=u,white=w,yellow=y\\n\\n    population: abundant=a,clustered=c,numerous=n,scattered=s,several=v,solitary=y\\n\\n    habitat: grasses=g,leaves=l,meadows=m,paths=p,urban=u,waste=w,woods=d\\n\\n\\n\\n'"
      ]
     },
     "execution_count": 140,
     "metadata": {},
     "output_type": "execute_result"
    }
   ],
   "source": [
    "\"\"\"\n",
    "About this file\n",
    "\n",
    "Attribute Information: (classes: edible=e, poisonous=p)\n",
    "\n",
    "    cap-shape: bell=b,conical=c,convex=x,flat=f, knobbed=k,sunken=s\n",
    "\n",
    "    cap-surface: fibrous=f,grooves=g,scaly=y,smooth=s\n",
    "\n",
    "    cap-color: brown=n,buff=b,cinnamon=c,gray=g,green=r,pink=p,purple=u,red=e,white=w,yellow=y\n",
    "\n",
    "    bruises: bruises=t,no=f\n",
    "\n",
    "    odor: almond=a,anise=l,creosote=c,fishy=y,foul=f,musty=m,none=n,pungent=p,spicy=s\n",
    "\n",
    "    gill-attachment: attached=a,descending=d,free=f,notched=n\n",
    "\n",
    "    gill-spacing: close=c,crowded=w,distant=d\n",
    "\n",
    "    gill-size: broad=b,narrow=n\n",
    "\n",
    "    gill-color: black=k,brown=n,buff=b,chocolate=h,gray=g, green=r,orange=o,pink=p,purple=u,red=e,white=w,yellow=y\n",
    "\n",
    "    stalk-shape: enlarging=e,tapering=t\n",
    "\n",
    "    stalk-root: bulbous=b,club=c,cup=u,equal=e,rhizomorphs=z,rooted=r,missing=?\n",
    "\n",
    "    stalk-surface-above-ring: fibrous=f,scaly=y,silky=k,smooth=s\n",
    "\n",
    "    stalk-surface-below-ring: fibrous=f,scaly=y,silky=k,smooth=s\n",
    "\n",
    "    stalk-color-above-ring: brown=n,buff=b,cinnamon=c,gray=g,orange=o,pink=p,red=e,white=w,yellow=y\n",
    "\n",
    "    stalk-color-below-ring: brown=n,buff=b,cinnamon=c,gray=g,orange=o,pink=p,red=e,white=w,yellow=y\n",
    "\n",
    "    veil-type: partial=p,universal=u\n",
    "\n",
    "    veil-color: brown=n,orange=o,white=w,yellow=y\n",
    "\n",
    "    ring-number: none=n,one=o,two=t\n",
    "\n",
    "    ring-type: cobwebby=c,evanescent=e,flaring=f,large=l,none=n,pendant=p,sheathing=s,zone=z\n",
    "\n",
    "    spore-print-color: black=k,brown=n,buff=b,chocolate=h,green=r,orange=o,purple=u,white=w,yellow=y\n",
    "\n",
    "    population: abundant=a,clustered=c,numerous=n,scattered=s,several=v,solitary=y\n",
    "\n",
    "    habitat: grasses=g,leaves=l,meadows=m,paths=p,urban=u,waste=w,woods=d\n",
    "\n",
    "\n",
    "\n",
    "\"\"\""
   ]
  },
  {
   "cell_type": "code",
   "execution_count": null,
   "metadata": {
    "application/vnd.databricks.v1+cell": {
     "cellMetadata": {
      "byteLimit": 2048000,
      "rowLimit": 10000
     },
     "inputWidgets": {},
     "nuid": "08c55e88-e5d4-4bbf-8082-115c3611501a",
     "showTitle": false,
     "title": ""
    }
   },
   "outputs": [
    {
     "data": {
      "text/plain": [
       "\"\\nInformations sur l'attribut : (classes : comestible=e, toxique=p)\\n\\n     forme du capuchon : cloche = b, conique = c, convexe = x, plat = f, bouton = k, enfoncé = s\\n\\n     surface du capuchon : fibreux = f, rainures = g, écailleuse = y, lisse = s\\n\\n     couleur du capuchon : marron = n, chamois = b, cannelle = c, gris = g, vert = r, rose = p, violet = u, rouge = e, blanc = w, jaune = y\\n\\n     bleus : bleus=t,no=f\\n\\n     odeur : amande = a, anis = l, créosote = c, poisson = y, fétide = f, moisi = m, aucun = n, piquant = p, épicé = s\\n\\n     attachement branchial : attaché = a, décroissant = d, libre = f, encoché = n\\n\\n     espacement des branchies : proche = c, bondé = w, distant = d\\n\\n     taille des branchies : large = b, étroit = n\\n\\n     couleur des branchies : noir = k, marron = n, chamois = b, chocolat = h, gris = g, vert = r, orange = o, rose = p, violet = u, rouge = e, blanc = w, jaune = oui\\n\\n     forme de la tige : agrandissement = e, effilé = t\\n\\n     tige-racine : bulbous=b,club=c,cup=u,equal=e,rhizomorphs=z,rooted=r,missing=?\\n\\n     surface de la tige au-dessus de l'anneau : fibreux = f, écailleux = y, soyeux = k, lisse = s\\n\\n     surface de la tige sous l'anneau : fibreux = f, écailleux = y, soyeux = k, lisse = s\\n\\n     couleur de la tige au-dessus de l'anneau : marron = n, chamois = b, cannelle = c, gris = g, orange = o, rose = p, rouge = e, blanc = w, jaune = y\\n\\n     couleur de la tige sous l'anneau : marron = n, chamois = b, cannelle = c, gris = g, orange = o, rose = p, rouge = e, blanc = w, jaune = y\\n\\n     type de voile : partiel = p, universel = u\\n\\n     couleur du voile : marron = n, orange = o, blanc = w, jaune = y\\n\\n     numéro de sonnerie : aucun = n, un = o, deux = t\\n\\n     type d'anneau : toile d'araignée = c, évanescent = e, évasé = f, grand = l, aucun = n, pendentif = p, gainage = s, zone = z\\n\\n     couleur d'impression des spores : noir = k, marron = n, chamois = b, chocolat = h, vert = r, orange = o, violet = u, blanc = w, jaune = y\\n\\n     population : abondante = a, regroupée = c, nombreuse = n, dispersée = s, plusieurs = v, solitaire = y\\n\\n     habitat : herbes = g, feuilles = l, prairies = m, chemins = p, urbain = u, déchets = w, bois = d\\n\\n\""
      ]
     },
     "execution_count": 141,
     "metadata": {},
     "output_type": "execute_result"
    }
   ],
   "source": [
    "\"\"\"\n",
    "Informations sur l'attribut : (classes : comestible=e, toxique=p)\n",
    "\n",
    "     forme du capuchon : cloche = b, conique = c, convexe = x, plat = f, bouton = k, enfoncé = s\n",
    "\n",
    "     surface du capuchon : fibreux = f, rainures = g, écailleuse = y, lisse = s\n",
    "\n",
    "     couleur du capuchon : marron = n, chamois = b, cannelle = c, gris = g, vert = r, rose = p, violet = u, rouge = e, blanc = w, jaune = y\n",
    "\n",
    "     bleus : bleus=t,no=f\n",
    "\n",
    "     odeur : amande = a, anis = l, créosote = c, poisson = y, fétide = f, moisi = m, aucun = n, piquant = p, épicé = s\n",
    "\n",
    "     attachement branchial : attaché = a, décroissant = d, libre = f, encoché = n\n",
    "\n",
    "     espacement des branchies : proche = c, bondé = w, distant = d\n",
    "\n",
    "     taille des branchies : large = b, étroit = n\n",
    "\n",
    "     couleur des branchies : noir = k, marron = n, chamois = b, chocolat = h, gris = g, vert = r, orange = o, rose = p, violet = u, rouge = e, blanc = w, jaune = oui\n",
    "\n",
    "     forme de la tige : agrandissement = e, effilé = t\n",
    "\n",
    "     tige-racine : bulbous=b,club=c,cup=u,equal=e,rhizomorphs=z,rooted=r,missing=?\n",
    "\n",
    "     surface de la tige au-dessus de l'anneau : fibreux = f, écailleux = y, soyeux = k, lisse = s\n",
    "\n",
    "     surface de la tige sous l'anneau : fibreux = f, écailleux = y, soyeux = k, lisse = s\n",
    "\n",
    "     couleur de la tige au-dessus de l'anneau : marron = n, chamois = b, cannelle = c, gris = g, orange = o, rose = p, rouge = e, blanc = w, jaune = y\n",
    "\n",
    "     couleur de la tige sous l'anneau : marron = n, chamois = b, cannelle = c, gris = g, orange = o, rose = p, rouge = e, blanc = w, jaune = y\n",
    "\n",
    "     type de voile : partiel = p, universel = u\n",
    "\n",
    "     couleur du voile : marron = n, orange = o, blanc = w, jaune = y\n",
    "\n",
    "     numéro de sonnerie : aucun = n, un = o, deux = t\n",
    "\n",
    "     type d'anneau : toile d'araignée = c, évanescent = e, évasé = f, grand = l, aucun = n, pendentif = p, gainage = s, zone = z\n",
    "\n",
    "     couleur d'impression des spores : noir = k, marron = n, chamois = b, chocolat = h, vert = r, orange = o, violet = u, blanc = w, jaune = y\n",
    "\n",
    "     population : abondante = a, regroupée = c, nombreuse = n, dispersée = s, plusieurs = v, solitaire = y\n",
    "\n",
    "     habitat : herbes = g, feuilles = l, prairies = m, chemins = p, urbain = u, déchets = w, bois = d\n",
    "\n",
    "\"\"\""
   ]
  },
  {
   "cell_type": "code",
   "execution_count": null,
   "metadata": {
    "application/vnd.databricks.v1+cell": {
     "cellMetadata": {
      "byteLimit": 2048000,
      "rowLimit": 10000
     },
     "inputWidgets": {},
     "nuid": "6482be4c-f067-47c9-b0ac-35c938b94601",
     "showTitle": false,
     "title": ""
    }
   },
   "outputs": [],
   "source": [
    "# File location and type\n",
    "file_location = \"/FileStore/tables/mushrooms.csv\"\n",
    "file_type = \"csv\"\n",
    "\n",
    "# CSV options\n",
    "infer_schema = \"false\"\n",
    "first_row_is_header = \"true\"\n",
    "delimiter = \",\"\n",
    "\n",
    "# The applied options are for CSV files. For other file types, these will be ignored.\n",
    "df = spark.read.format(file_type) \\\n",
    "  .option(\"inferSchema\", infer_schema) \\\n",
    "  .option(\"header\", first_row_is_header) \\\n",
    "  .option(\"sep\", delimiter) \\\n",
    "  .load(file_location)\n",
    "\n"
   ]
  },
  {
   "cell_type": "code",
   "execution_count": null,
   "metadata": {
    "application/vnd.databricks.v1+cell": {
     "cellMetadata": {
      "byteLimit": 2048000,
      "rowLimit": 10000
     },
     "inputWidgets": {},
     "nuid": "466a185a-9e8a-423b-a675-9834c91595c5",
     "showTitle": false,
     "title": ""
    }
   },
   "outputs": [
    {
     "name": "stdout",
     "output_type": "stream",
     "text": [
      "root\n",
      " |-- class: string (nullable = true)\n",
      " |-- cap-shape: string (nullable = true)\n",
      " |-- cap-surface: string (nullable = true)\n",
      " |-- cap-color: string (nullable = true)\n",
      " |-- bruises: string (nullable = true)\n",
      " |-- odor: string (nullable = true)\n",
      " |-- gill-attachment: string (nullable = true)\n",
      " |-- gill-spacing: string (nullable = true)\n",
      " |-- gill-size: string (nullable = true)\n",
      " |-- gill-color: string (nullable = true)\n",
      " |-- stalk-shape: string (nullable = true)\n",
      " |-- stalk-root: string (nullable = true)\n",
      " |-- stalk-surface-above-ring: string (nullable = true)\n",
      " |-- stalk-surface-below-ring: string (nullable = true)\n",
      " |-- stalk-color-above-ring: string (nullable = true)\n",
      " |-- stalk-color-below-ring: string (nullable = true)\n",
      " |-- veil-type: string (nullable = true)\n",
      " |-- veil-color: string (nullable = true)\n",
      " |-- ring-number: string (nullable = true)\n",
      " |-- ring-type: string (nullable = true)\n",
      " |-- spore-print-color: string (nullable = true)\n",
      " |-- population: string (nullable = true)\n",
      " |-- habitat: string (nullable = true)\n",
      "\n"
     ]
    }
   ],
   "source": [
    "df.printSchema()"
   ]
  },
  {
   "cell_type": "code",
   "execution_count": null,
   "metadata": {
    "application/vnd.databricks.v1+cell": {
     "cellMetadata": {
      "byteLimit": 2048000,
      "rowLimit": 10000
     },
     "inputWidgets": {},
     "nuid": "11cabc8b-9eb5-45d2-a864-f8eee3749989",
     "showTitle": false,
     "title": ""
    }
   },
   "outputs": [
    {
     "data": {
      "text/html": [
       "<style scoped>\n",
       "  .table-result-container {\n",
       "    max-height: 300px;\n",
       "    overflow: auto;\n",
       "  }\n",
       "  table, th, td {\n",
       "    border: 1px solid black;\n",
       "    border-collapse: collapse;\n",
       "  }\n",
       "  th, td {\n",
       "    padding: 5px;\n",
       "  }\n",
       "  th {\n",
       "    text-align: left;\n",
       "  }\n",
       "</style><div class='table-result-container'><table class='table-result'><thead style='background-color: white'><tr><th>class</th><th>cap-shape</th><th>cap-surface</th><th>cap-color</th><th>bruises</th><th>odor</th><th>gill-attachment</th><th>gill-spacing</th><th>gill-size</th><th>gill-color</th><th>stalk-shape</th><th>stalk-root</th><th>stalk-surface-above-ring</th><th>stalk-surface-below-ring</th><th>stalk-color-above-ring</th><th>stalk-color-below-ring</th><th>veil-type</th><th>veil-color</th><th>ring-number</th><th>ring-type</th><th>spore-print-color</th><th>population</th><th>habitat</th></tr></thead><tbody><tr><td>0</td><td>0</td><td>0</td><td>0</td><td>0</td><td>0</td><td>0</td><td>0</td><td>0</td><td>0</td><td>0</td><td>0</td><td>0</td><td>0</td><td>0</td><td>0</td><td>0</td><td>0</td><td>0</td><td>0</td><td>0</td><td>0</td><td>0</td></tr></tbody></table></div>"
      ]
     },
     "metadata": {
      "application/vnd.databricks.v1+output": {
       "addedWidgets": {},
       "aggData": [],
       "aggError": "",
       "aggOverflow": false,
       "aggSchema": [],
       "aggSeriesLimitReached": false,
       "aggType": "",
       "arguments": {},
       "columnCustomDisplayInfos": {},
       "data": [
        [
         0,
         0,
         0,
         0,
         0,
         0,
         0,
         0,
         0,
         0,
         0,
         0,
         0,
         0,
         0,
         0,
         0,
         0,
         0,
         0,
         0,
         0,
         0
        ]
       ],
       "datasetInfos": [],
       "dbfsResultPath": null,
       "isJsonSchema": true,
       "metadata": {},
       "overflow": false,
       "plotOptions": {
        "customPlotOptions": {},
        "displayType": "table",
        "pivotAggregation": null,
        "pivotColumns": null,
        "xColumns": null,
        "yColumns": null
       },
       "removedWidgets": [],
       "schema": [
        {
         "metadata": "{}",
         "name": "class",
         "type": "\"long\""
        },
        {
         "metadata": "{}",
         "name": "cap-shape",
         "type": "\"long\""
        },
        {
         "metadata": "{}",
         "name": "cap-surface",
         "type": "\"long\""
        },
        {
         "metadata": "{}",
         "name": "cap-color",
         "type": "\"long\""
        },
        {
         "metadata": "{}",
         "name": "bruises",
         "type": "\"long\""
        },
        {
         "metadata": "{}",
         "name": "odor",
         "type": "\"long\""
        },
        {
         "metadata": "{}",
         "name": "gill-attachment",
         "type": "\"long\""
        },
        {
         "metadata": "{}",
         "name": "gill-spacing",
         "type": "\"long\""
        },
        {
         "metadata": "{}",
         "name": "gill-size",
         "type": "\"long\""
        },
        {
         "metadata": "{}",
         "name": "gill-color",
         "type": "\"long\""
        },
        {
         "metadata": "{}",
         "name": "stalk-shape",
         "type": "\"long\""
        },
        {
         "metadata": "{}",
         "name": "stalk-root",
         "type": "\"long\""
        },
        {
         "metadata": "{}",
         "name": "stalk-surface-above-ring",
         "type": "\"long\""
        },
        {
         "metadata": "{}",
         "name": "stalk-surface-below-ring",
         "type": "\"long\""
        },
        {
         "metadata": "{}",
         "name": "stalk-color-above-ring",
         "type": "\"long\""
        },
        {
         "metadata": "{}",
         "name": "stalk-color-below-ring",
         "type": "\"long\""
        },
        {
         "metadata": "{}",
         "name": "veil-type",
         "type": "\"long\""
        },
        {
         "metadata": "{}",
         "name": "veil-color",
         "type": "\"long\""
        },
        {
         "metadata": "{}",
         "name": "ring-number",
         "type": "\"long\""
        },
        {
         "metadata": "{}",
         "name": "ring-type",
         "type": "\"long\""
        },
        {
         "metadata": "{}",
         "name": "spore-print-color",
         "type": "\"long\""
        },
        {
         "metadata": "{}",
         "name": "population",
         "type": "\"long\""
        },
        {
         "metadata": "{}",
         "name": "habitat",
         "type": "\"long\""
        }
       ],
       "type": "table"
      }
     },
     "output_type": "display_data"
    }
   ],
   "source": [
    "from pyspark.sql.functions import when, count, col, isnull\n",
    "display(df.select([count(when(isnull(c), c)).alias(c) for c in df.columns]))"
   ]
  },
  {
   "cell_type": "code",
   "execution_count": null,
   "metadata": {
    "application/vnd.databricks.v1+cell": {
     "cellMetadata": {
      "byteLimit": 2048000,
      "rowLimit": 10000
     },
     "inputWidgets": {},
     "nuid": "61a82214-fede-4e89-ab8b-4da9c88fb25d",
     "showTitle": false,
     "title": ""
    }
   },
   "outputs": [
    {
     "name": "stdout",
     "output_type": "stream",
     "text": [
      "+-----+-----+-----------------+\n",
      "|class|count|       percentage|\n",
      "+-----+-----+-----------------+\n",
      "|    e| 4208| 51.7971442639094|\n",
      "|    p| 3916|48.20285573609059|\n",
      "+-----+-----+-----------------+\n",
      "\n",
      "+---------+-----+-------------------+\n",
      "|cap-shape|count|         percentage|\n",
      "+---------+-----+-------------------+\n",
      "|        x| 3656|  45.00246184145741|\n",
      "|        f| 3152|  38.79862136878385|\n",
      "|        k|  828|  10.19202363367799|\n",
      "|        c|    4|0.04923682914820286|\n",
      "|        b|  452| 5.5637616937469225|\n",
      "|        s|   32| 0.3938946331856229|\n",
      "+---------+-----+-------------------+\n",
      "\n",
      "+-----------+-----+-------------------+\n",
      "|cap-surface|count|         percentage|\n",
      "+-----------+-----+-------------------+\n",
      "|          g|    4|0.04923682914820286|\n",
      "|          f| 2320|  28.55736090595766|\n",
      "|          y| 3244| 39.931068439192515|\n",
      "|          s| 2556| 31.462333825701627|\n",
      "+-----------+-----+-------------------+\n",
      "\n",
      "+---------+-----+-------------------+\n",
      "|cap-color|count|         percentage|\n",
      "+---------+-----+-------------------+\n",
      "|        g| 1840| 22.648941408173314|\n",
      "|        n| 2284| 28.114229443623827|\n",
      "|        e| 1500|  18.46381093057607|\n",
      "|        p|  144| 1.7725258493353029|\n",
      "|        y| 1072| 13.195470211718366|\n",
      "|        w| 1040| 12.801575578532741|\n",
      "|        c|   44| 0.5416051206302315|\n",
      "|        u|   16|0.19694731659281145|\n",
      "|        b|  168|   2.06794682422452|\n",
      "|        r|   16|0.19694731659281145|\n",
      "+---------+-----+-------------------+\n",
      "\n",
      "+-------+-----+-----------------+\n",
      "|bruises|count|       percentage|\n",
      "+-------+-----+-----------------+\n",
      "|      f| 4748|58.44411619891679|\n",
      "|      t| 3376|41.55588380108321|\n",
      "+-------+-----+-----------------+\n",
      "\n",
      "+----+-----+------------------+\n",
      "|odor|count|        percentage|\n",
      "+----+-----+------------------+\n",
      "|   l|  400| 4.923682914820286|\n",
      "|   m|   36|0.4431314623338257|\n",
      "|   f| 2160|26.587887740029544|\n",
      "|   n| 3528| 43.42688330871492|\n",
      "|   p|  256| 3.151157065484983|\n",
      "|   y|  576|7.0901033973412115|\n",
      "|   c|  192| 2.363367799113737|\n",
      "|   a|  400| 4.923682914820286|\n",
      "|   s|  576|7.0901033973412115|\n",
      "+----+-----+------------------+\n",
      "\n",
      "+---------------+-----+-----------------+\n",
      "|gill-attachment|count|       percentage|\n",
      "+---------------+-----+-----------------+\n",
      "|              f| 7914|97.41506646971935|\n",
      "|              a|  210| 2.58493353028065|\n",
      "+---------------+-----+-----------------+\n",
      "\n",
      "+------------+-----+------------------+\n",
      "|gill-spacing|count|        percentage|\n",
      "+------------+-----+------------------+\n",
      "|           w| 1312|16.149679960610534|\n",
      "|           c| 6812| 83.85032003938946|\n",
      "+------------+-----+------------------+\n",
      "\n",
      "+---------+-----+------------------+\n",
      "|gill-size|count|        percentage|\n",
      "+---------+-----+------------------+\n",
      "|        n| 2512|30.920728705071394|\n",
      "|        b| 5612|  69.0792712949286|\n",
      "+---------+-----+------------------+\n",
      "\n",
      "+----------+-----+-------------------+\n",
      "|gill-color|count|         percentage|\n",
      "+----------+-----+-------------------+\n",
      "|         g|  752|  9.256523879862137|\n",
      "|         n| 1048| 12.900049236829148|\n",
      "|         k|  408|  5.022156573116692|\n",
      "|         e|   96| 1.1816838995568686|\n",
      "|         o|   64| 0.7877892663712458|\n",
      "|         h|  732|  9.010339734121123|\n",
      "|         p| 1492| 18.365337272279668|\n",
      "|         w| 1202|  14.79566715903496|\n",
      "|         y|   86| 1.0585918266863614|\n",
      "|         u|  492|  6.056129985228951|\n",
      "|         b| 1728| 21.270310192023633|\n",
      "|         r|   24|0.29542097488921715|\n",
      "+----------+-----+-------------------+\n",
      "\n",
      "+-----------+-----+------------------+\n",
      "|stalk-shape|count|        percentage|\n",
      "+-----------+-----+------------------+\n",
      "|          e| 3516|43.279172821270315|\n",
      "|          t| 4608| 56.72082717872969|\n",
      "+-----------+-----+------------------+\n",
      "\n",
      "+----------+-----+------------------+\n",
      "|stalk-root|count|        percentage|\n",
      "+----------+-----+------------------+\n",
      "|         e| 1120|  13.7863121614968|\n",
      "|         c|  556| 6.843919251600197|\n",
      "|         b| 3776|46.479566715903495|\n",
      "|         r|  192| 2.363367799113737|\n",
      "|         ?| 2480|30.526834071885773|\n",
      "+----------+-----+------------------+\n",
      "\n",
      "+------------------------+-----+-------------------+\n",
      "|stalk-surface-above-ring|count|         percentage|\n",
      "+------------------------+-----+-------------------+\n",
      "|                       f|  552|  6.794682422451995|\n",
      "|                       k| 2372|  29.19743968488429|\n",
      "|                       y|   24|0.29542097488921715|\n",
      "|                       s| 5176| 63.712456917774496|\n",
      "+------------------------+-----+-------------------+\n",
      "\n",
      "+------------------------+-----+------------------+\n",
      "|stalk-surface-below-ring|count|        percentage|\n",
      "+------------------------+-----+------------------+\n",
      "|                       f|  600| 7.385524372230429|\n",
      "|                       k| 2304|28.360413589364846|\n",
      "|                       y|  284|3.4958148695224027|\n",
      "|                       s| 4936| 60.75824716888233|\n",
      "+------------------------+-----+------------------+\n",
      "\n",
      "+----------------------+-----+-------------------+\n",
      "|stalk-color-above-ring|count|         percentage|\n",
      "+----------------------+-----+-------------------+\n",
      "|                     g|  576| 7.0901033973412115|\n",
      "|                     n|  448| 5.5145248645987195|\n",
      "|                     e|   96| 1.1816838995568686|\n",
      "|                     o|  192|  2.363367799113737|\n",
      "|                     p| 1872| 23.042836041358935|\n",
      "|                     w| 4464|  54.94830132939439|\n",
      "|                     y|    8|0.09847365829640572|\n",
      "|                     c|   36| 0.4431314623338257|\n",
      "|                     b|  432|  5.317577548005908|\n",
      "+----------------------+-----+-------------------+\n",
      "\n",
      "+----------------------+-----+-------------------+\n",
      "|stalk-color-below-ring|count|         percentage|\n",
      "+----------------------+-----+-------------------+\n",
      "|                     g|  576| 7.0901033973412115|\n",
      "|                     n|  512|  6.302314130969966|\n",
      "|                     e|   96| 1.1816838995568686|\n",
      "|                     o|  192|  2.363367799113737|\n",
      "|                     p| 1872| 23.042836041358935|\n",
      "|                     w| 4384|  53.96356474643033|\n",
      "|                     y|   24|0.29542097488921715|\n",
      "|                     c|   36| 0.4431314623338257|\n",
      "|                     b|  432|  5.317577548005908|\n",
      "+----------------------+-----+-------------------+\n",
      "\n",
      "+---------+-----+----------+\n",
      "|veil-type|count|percentage|\n",
      "+---------+-----+----------+\n",
      "|        p| 8124|     100.0|\n",
      "+---------+-----+----------+\n",
      "\n",
      "+----------+-----+-------------------+\n",
      "|veil-color|count|         percentage|\n",
      "+----------+-----+-------------------+\n",
      "|         n|   96| 1.1816838995568686|\n",
      "|         o|   96| 1.1816838995568686|\n",
      "|         w| 7924|  97.53815854258985|\n",
      "|         y|    8|0.09847365829640572|\n",
      "+----------+-----+-------------------+\n",
      "\n",
      "+-----------+-----+------------------+\n",
      "|ring-number|count|        percentage|\n",
      "+-----------+-----+------------------+\n",
      "|          n|   36|0.4431314623338257|\n",
      "|          o| 7488| 92.17134416543574|\n",
      "|          t|  600| 7.385524372230429|\n",
      "+-----------+-----+------------------+\n",
      "\n",
      "+---------+-----+------------------+\n",
      "|ring-type|count|        percentage|\n",
      "+---------+-----+------------------+\n",
      "|        l| 1296|15.952732644017726|\n",
      "|        f|   48|0.5908419497784343|\n",
      "|        n|   36|0.4431314623338257|\n",
      "|        e| 2776|34.170359428852784|\n",
      "|        p| 3968|48.842934515017234|\n",
      "+---------+-----+------------------+\n",
      "\n",
      "+-----------------+-----+------------------+\n",
      "|spore-print-color|count|        percentage|\n",
      "+-----------------+-----+------------------+\n",
      "|                n| 1968|24.224519940915805|\n",
      "|                k| 1872|23.042836041358935|\n",
      "|                o|   48|0.5908419497784343|\n",
      "|                h| 1632|20.088626292466767|\n",
      "|                w| 2388|29.394387001477106|\n",
      "|                y|   48|0.5908419497784343|\n",
      "|                u|   48|0.5908419497784343|\n",
      "|                b|   48|0.5908419497784343|\n",
      "|                r|   72|0.8862629246676514|\n",
      "+-----------------+-----+------------------+\n",
      "\n",
      "+----------+-----+------------------+\n",
      "|population|count|        percentage|\n",
      "+----------+-----+------------------+\n",
      "|         n|  400| 4.923682914820286|\n",
      "|         v| 4040| 49.72919743968489|\n",
      "|         y| 1712|21.073362875430824|\n",
      "|         c|  340| 4.185130477597243|\n",
      "|         a|  384| 4.726735598227474|\n",
      "|         s| 1248| 15.36189069423929|\n",
      "+----------+-----+------------------+\n",
      "\n",
      "+-------+-----+------------------+\n",
      "|habitat|count|        percentage|\n",
      "+-------+-----+------------------+\n",
      "|      l|  832|10.241260462826194|\n",
      "|      g| 2148|26.440177252584935|\n",
      "|      m|  292|3.5942885278188084|\n",
      "|      p| 1144|14.081733136386015|\n",
      "|      d| 3148| 38.74938453963564|\n",
      "|      w|  192| 2.363367799113737|\n",
      "|      u|  368| 4.529788281634663|\n",
      "+-------+-----+------------------+\n",
      "\n"
     ]
    }
   ],
   "source": [
    "row_count = df.count()\n",
    "for name in df.columns:\n",
    "    result_df = df.groupBy(name).count().withColumn(\"percentage\", (col(\"count\") / row_count * 100))\n",
    "    result_df.show()\n"
   ]
  },
  {
   "cell_type": "code",
   "execution_count": null,
   "metadata": {
    "application/vnd.databricks.v1+cell": {
     "cellMetadata": {
      "byteLimit": 2048000,
      "rowLimit": 10000
     },
     "inputWidgets": {},
     "nuid": "fdd9e9ec-85ef-4282-a8bd-04401648f800",
     "showTitle": false,
     "title": ""
    }
   },
   "outputs": [],
   "source": [
    "from pyspark.ml.feature import StringIndexer\n",
    "df_copy = df.alias('df_copy')\n",
    "list_indexer = []\n",
    "for name in df_copy.columns : \n",
    "    indexer=StringIndexer(inputCol=name,outputCol=name + \"_indexed\")\n",
    "    list_indexer.append(indexer)\n",
    "    df_copy=indexer.fit(df_copy).transform(df_copy)\n",
    "df_copy.show()"
   ]
  },
  {
   "cell_type": "code",
   "execution_count": null,
   "metadata": {
    "application/vnd.databricks.v1+cell": {
     "cellMetadata": {
      "byteLimit": 2048000,
      "rowLimit": 10000
     },
     "inputWidgets": {},
     "nuid": "00ab3b86-b211-49c5-86ca-3726207c4977",
     "showTitle": false,
     "title": ""
    }
   },
   "outputs": [],
   "source": [
    "features_list = df_copy.columns.copy()\n",
    "for name in df.columns : \n",
    "    features_list.remove(name)\n",
    "features_list.remove(\"class_indexed\")"
   ]
  },
  {
   "cell_type": "code",
   "execution_count": null,
   "metadata": {
    "application/vnd.databricks.v1+cell": {
     "cellMetadata": {
      "byteLimit": 2048000,
      "rowLimit": 10000
     },
     "inputWidgets": {},
     "nuid": "4e05cdde-9861-4ef9-960e-b350333487c5",
     "showTitle": false,
     "title": ""
    }
   },
   "outputs": [],
   "source": [
    "from pyspark.ml.feature import VectorAssembler\n",
    "featureassembler=VectorAssembler(inputCols=features_list,outputCol=\"X\")\n",
    "output=featureassembler.transform(df_copy)\n"
   ]
  },
  {
   "cell_type": "code",
   "execution_count": null,
   "metadata": {
    "application/vnd.databricks.v1+cell": {
     "cellMetadata": {
      "byteLimit": 2048000,
      "rowLimit": 10000
     },
     "inputWidgets": {},
     "nuid": "c8d69c01-eaa8-41da-8af6-b76d87ab7e7d",
     "showTitle": false,
     "title": ""
    }
   },
   "outputs": [],
   "source": [
    "train_data,test_data=output.randomSplit([0.75,0.25],42)"
   ]
  },
  {
   "cell_type": "markdown",
   "metadata": {},
   "source": [
    "# Regression Logistic"
   ]
  },
  {
   "cell_type": "code",
   "execution_count": null,
   "metadata": {
    "application/vnd.databricks.v1+cell": {
     "cellMetadata": {
      "byteLimit": 2048000,
      "rowLimit": 10000
     },
     "inputWidgets": {},
     "nuid": "02dec287-25a0-41e2-bf27-d6deadb55094",
     "showTitle": false,
     "title": ""
    }
   },
   "outputs": [],
   "source": [
    "from pyspark.ml.classification import LogisticRegression\n",
    "classifier = LogisticRegression(featuresCol='X', labelCol='class_indexed',)\n",
    "classifier = classifier.fit(train_data)"
   ]
  },
  {
   "cell_type": "code",
   "execution_count": null,
   "metadata": {
    "application/vnd.databricks.v1+cell": {
     "cellMetadata": {
      "byteLimit": 2048000,
      "rowLimit": 10000
     },
     "inputWidgets": {},
     "nuid": "1333098e-bd39-4912-ae9e-9881b58e23f9",
     "showTitle": false,
     "title": ""
    }
   },
   "outputs": [],
   "source": [
    "results = classifier.evaluate(test_data)"
   ]
  },
  {
   "cell_type": "code",
   "execution_count": null,
   "metadata": {
    "application/vnd.databricks.v1+cell": {
     "cellMetadata": {
      "byteLimit": 2048000,
      "rowLimit": 10000
     },
     "inputWidgets": {},
     "nuid": "90126f93-64f5-4fa7-b0f9-1a5aaf8c2da1",
     "showTitle": false,
     "title": ""
    }
   },
   "outputs": [
    {
     "data": {
      "text/plain": [
       "0.9851965288412455"
      ]
     },
     "execution_count": 153,
     "metadata": {},
     "output_type": "execute_result"
    }
   ],
   "source": [
    "results.accuracy"
   ]
  },
  {
   "cell_type": "markdown",
   "metadata": {},
   "source": [
    "# Random forest"
   ]
  },
  {
   "cell_type": "code",
   "execution_count": null,
   "metadata": {
    "application/vnd.databricks.v1+cell": {
     "cellMetadata": {
      "byteLimit": 2048000,
      "rowLimit": 10000
     },
     "inputWidgets": {},
     "nuid": "91481de4-250c-42ea-acc2-8eb2d9648d7e",
     "showTitle": false,
     "title": ""
    }
   },
   "outputs": [],
   "source": [
    "from pyspark.ml.classification import RandomForestClassifier\n",
    "rf_classifier = RandomForestClassifier(featuresCol=\"X\", labelCol='class_indexed', numTrees=100)\n",
    "rf_classifier = rf_classifier.fit(train_data)"
   ]
  },
  {
   "cell_type": "code",
   "execution_count": null,
   "metadata": {
    "application/vnd.databricks.v1+cell": {
     "cellMetadata": {
      "byteLimit": 2048000,
      "rowLimit": 10000
     },
     "inputWidgets": {},
     "nuid": "46549993-a64b-4299-a04b-e70b7da8779a",
     "showTitle": false,
     "title": ""
    }
   },
   "outputs": [],
   "source": [
    "rf_results = rf_classifier.evaluate(test_data)"
   ]
  },
  {
   "cell_type": "code",
   "execution_count": null,
   "metadata": {
    "application/vnd.databricks.v1+cell": {
     "cellMetadata": {
      "byteLimit": 2048000,
      "rowLimit": 10000
     },
     "inputWidgets": {},
     "nuid": "aad4fab3-ebe7-4d18-b2f1-963b5bb084d7",
     "showTitle": false,
     "title": ""
    }
   },
   "outputs": [
    {
     "data": {
      "text/plain": [
       "0.9994895354772844"
      ]
     },
     "execution_count": 159,
     "metadata": {},
     "output_type": "execute_result"
    }
   ],
   "source": [
    "rf_results.accuracy"
   ]
  }
 ],
 "metadata": {
  "application/vnd.databricks.v1+notebook": {
   "dashboards": [],
   "language": "python",
   "notebookMetadata": {
    "mostRecentlyExecutedCommandWithImplicitDF": {
     "commandId": 3533200694029037,
     "dataframes": [
      "_sqldf"
     ]
    },
    "pythonIndentUnit": 4
   },
   "notebookName": "Mushroom analyse",
   "widgets": {}
  },
  "language_info": {
   "name": "python"
  }
 },
 "nbformat": 4,
 "nbformat_minor": 0
}
